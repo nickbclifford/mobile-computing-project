{
  "nbformat": 4,
  "nbformat_minor": 0,
  "metadata": {
    "colab": {
      "provenance": [],
      "machine_shape": "hm",
      "gpuType": "T4"
    },
    "kernelspec": {
      "name": "python3",
      "display_name": "Python 3"
    },
    "language_info": {
      "name": "python"
    },
    "accelerator": "GPU"
  },
  "cells": [
    {
      "cell_type": "code",
      "source": [
        "%%capture\n",
        "!pip install torchmetrics[audio]\n",
        "!pip install pesq"
      ],
      "metadata": {
        "id": "lAajiyqDmzAR"
      },
      "execution_count": null,
      "outputs": []
    },
    {
      "cell_type": "code",
      "source": [
        "from torchmetrics.audio import PerceptualEvaluationSpeechQuality, ShortTimeObjectiveIntelligibility, ScaleInvariantSignalNoiseRatio"
      ],
      "metadata": {
        "id": "GY8emv9umzZc"
      },
      "execution_count": null,
      "outputs": []
    },
    {
      "cell_type": "code",
      "execution_count": 2,
      "metadata": {
        "id": "seuRB_J8bkmq"
      },
      "outputs": [],
      "source": [
        "import torch\n",
        "from torch import nn\n",
        "from torch.nn import functional as F\n",
        "import numpy as np\n",
        "import math\n",
        "from torch.quantization import quantize_dynamic, QuantType\n",
        "from IPython.display import Audio, display\n",
        "import torchaudio\n",
        "from torchaudio.functional import resample\n",
        "from torch.profiler import profile, record_function, ProfilerActivity\n",
        "import os\n",
        "from tqdm import tqdm\n",
        "import pandas as pd"
      ]
    },
    {
      "cell_type": "code",
      "source": [
        "!rm -rf mobile-computing-project"
      ],
      "metadata": {
        "id": "lVuu7Kj0ozTt"
      },
      "execution_count": null,
      "outputs": []
    },
    {
      "cell_type": "code",
      "source": [
        "!git clone https://github.com/nickbclifford/mobile-computing-project.git"
      ],
      "metadata": {
        "colab": {
          "base_uri": "https://localhost:8080/"
        },
        "id": "JBVndqLcnbeg",
        "outputId": "88e60d3e-417d-4928-b556-d81e69df0c01"
      },
      "execution_count": null,
      "outputs": [
        {
          "output_type": "stream",
          "name": "stdout",
          "text": [
            "Cloning into 'mobile-computing-project'...\n",
            "remote: Enumerating objects: 380, done.\u001b[K\n",
            "remote: Counting objects: 100% (380/380), done.\u001b[K\n",
            "remote: Compressing objects: 100% (241/241), done.\u001b[K\n",
            "remote: Total 380 (delta 144), reused 313 (delta 79), pack-reused 0\u001b[K\n",
            "Receiving objects: 100% (380/380), 16.71 MiB | 13.65 MiB/s, done.\n",
            "Resolving deltas: 100% (144/144), done.\n"
          ]
        }
      ]
    },
    {
      "cell_type": "code",
      "source": [
        "import sys\n",
        "sys.path.append('mobile-computing-project')"
      ],
      "metadata": {
        "id": "qJpdpNlAn04k"
      },
      "execution_count": null,
      "outputs": []
    },
    {
      "cell_type": "code",
      "source": [
        "from denoising import demucs, quantized_demucs"
      ],
      "metadata": {
        "id": "CwUoy6-zn60_"
      },
      "execution_count": null,
      "outputs": []
    },
    {
      "cell_type": "code",
      "source": [
        "# all imports\n",
        "from IPython.display import Javascript\n",
        "from google.colab import output\n",
        "from base64 import b64decode\n",
        "from io import BytesIO\n",
        "!pip -q install pydub\n",
        "from pydub import AudioSegment\n",
        "\n",
        "RECORD = \"\"\"\n",
        "const sleep  = time => new Promise(resolve => setTimeout(resolve, time))\n",
        "const b2text = blob => new Promise(resolve => {\n",
        "  const reader = new FileReader()\n",
        "  reader.onloadend = e => resolve(e.srcElement.result)\n",
        "  reader.readAsDataURL(blob)\n",
        "})\n",
        "var record = time => new Promise(async resolve => {\n",
        "  stream = await navigator.mediaDevices.getUserMedia({ audio: true })\n",
        "  recorder = new MediaRecorder(stream)\n",
        "  chunks = []\n",
        "  recorder.ondataavailable = e => chunks.push(e.data)\n",
        "  recorder.start()\n",
        "  await sleep(time)\n",
        "  recorder.onstop = async ()=>{\n",
        "    blob = new Blob(chunks)\n",
        "    text = await b2text(blob)\n",
        "    resolve(text)\n",
        "  }\n",
        "  recorder.stop()\n",
        "})\n",
        "\"\"\"\n",
        "\n",
        "def record(sec=3):\n",
        "  display(Javascript(RECORD))\n",
        "  s = output.eval_js('record(%d)' % (sec*1000))\n",
        "  b = b64decode(s.split(',')[1])\n",
        "  audio = AudioSegment.from_file(BytesIO(b))\n",
        "  return audio, BytesIO(b)"
      ],
      "metadata": {
        "id": "bpfBndypmmMF"
      },
      "execution_count": null,
      "outputs": []
    },
    {
      "cell_type": "code",
      "source": [
        "def tensor_to_audio(x, s):\n",
        "  if len(x.shape) != 2:\n",
        "    x = x.squeeze(1)\n",
        "\n",
        "  torchaudio.save('./test1.wav', x, s)\n",
        "  display(Audio('./test1.wav'))"
      ],
      "metadata": {
        "id": "oZXHA1vXpYXS"
      },
      "execution_count": null,
      "outputs": []
    },
    {
      "cell_type": "code",
      "source": [
        "def model_perf(model, sample):\n",
        "  with profile(activities=[ProfilerActivity.CPU], record_shapes=True, profile_memory=True) as prof:\n",
        "    with record_function(\"model_inference\"):\n",
        "      with torch.no_grad():\n",
        "        for _ in range(10):\n",
        "          res = model(sample).cpu().numpy()\n",
        "    print(res)\n",
        "\n",
        "  print(prof.key_averages().table(sort_by=\"cpu_time_total\", row_limit=10))"
      ],
      "metadata": {
        "id": "vyl6nGABpUS-"
      },
      "execution_count": null,
      "outputs": []
    },
    {
      "cell_type": "code",
      "source": [
        "def get_size_of_model(model):\n",
        "  torch.save(model.state_dict(), \"temp.p\")\n",
        "  size=os.path.getsize(\"temp.p\")\n",
        "  os.remove('temp.p')\n",
        "  return size"
      ],
      "metadata": {
        "id": "-rMQub2ldxV4"
      },
      "execution_count": null,
      "outputs": []
    },
    {
      "cell_type": "code",
      "source": [
        "def print_size_of_model(model, label=\"\"):\n",
        "    size = get_size_of_model(model)\n",
        "    print(\"model: \",label,' \\t','Size (KB):', size/1e3)\n",
        "    return size"
      ],
      "metadata": {
        "id": "P6ba4Lo0wkFR"
      },
      "execution_count": null,
      "outputs": []
    },
    {
      "cell_type": "code",
      "source": [
        "!curl -o test_noisy.zip https://datashare.ed.ac.uk/bitstream/handle/10283/2791/noisy_testset_wav.zip?sequence=5&isAllowed=y"
      ],
      "metadata": {
        "colab": {
          "base_uri": "https://localhost:8080/"
        },
        "id": "DdObx0dWpvlL",
        "outputId": "8fd15580-8124-4079-866a-ac389b551559"
      },
      "execution_count": null,
      "outputs": [
        {
          "output_type": "stream",
          "name": "stdout",
          "text": [
            "  % Total    % Received % Xferd  Average Speed   Time    Time     Time  Current\n",
            "                                 Dload  Upload   Total   Spent    Left  Speed\n",
            "100  162M  100  162M    0     0  7855k      0  0:00:21  0:00:21 --:--:-- 12.1M\n"
          ]
        }
      ]
    },
    {
      "cell_type": "code",
      "source": [
        "!curl -o test_clean.zip https://datashare.ed.ac.uk/bitstream/handle/10283/2791/clean_testset_wav.zip?sequence=1&isAllowed=y"
      ],
      "metadata": {
        "id": "6T4yyfh9qYkd",
        "colab": {
          "base_uri": "https://localhost:8080/"
        },
        "outputId": "34bd3f52-5d7b-4b72-b095-a848397cc808"
      },
      "execution_count": null,
      "outputs": [
        {
          "output_type": "stream",
          "name": "stdout",
          "text": [
            "  % Total    % Received % Xferd  Average Speed   Time    Time     Time  Current\n",
            "                                 Dload  Upload   Total   Spent    Left  Speed\n",
            "100  147M  100  147M    0     0  9271k      0  0:00:16  0:00:16 --:--:-- 16.5M\n"
          ]
        }
      ]
    },
    {
      "cell_type": "code",
      "source": [
        "%%capture\n",
        "!unzip test_noisy.zip"
      ],
      "metadata": {
        "id": "hESbnJqqp5o4"
      },
      "execution_count": null,
      "outputs": []
    },
    {
      "cell_type": "code",
      "source": [
        "%%capture\n",
        "!unzip test_clean.zip"
      ],
      "metadata": {
        "id": "CNFp0_WYqtFD"
      },
      "execution_count": null,
      "outputs": []
    },
    {
      "cell_type": "code",
      "source": [
        "from torchaudio.transforms import Resample"
      ],
      "metadata": {
        "id": "Vx0-Bj7H9Xpm"
      },
      "execution_count": null,
      "outputs": []
    },
    {
      "cell_type": "code",
      "source": [
        "# making Dataset\n",
        "class ValentiniDataset(torch.utils.data.Dataset):\n",
        "    def __init__(self, noisy_dir, clean_dir, max_size = None, sample_hz=16000, transform=None):\n",
        "        self.noisy_dir = noisy_dir\n",
        "        self.clean_dir = clean_dir\n",
        "        self.transform = transform\n",
        "        self.sample_hz = sample_hz\n",
        "\n",
        "        self.files = os.listdir(noisy_dir)\n",
        "        self.files = list(zip(\n",
        "            [os.path.join(noisy_dir, f) for f in self.files],\n",
        "            [os.path.join(clean_dir, f) for f in self.files]\n",
        "        ))\n",
        "\n",
        "        if max_size is not None:\n",
        "            self.files = self.files[:max_size]\n",
        "    def __len__(self):\n",
        "        return len(self.files)\n",
        "\n",
        "    def __getitem__(self, idx):\n",
        "        noisy, clean = self.files[idx]\n",
        "        noisy, fs1 = torchaudio.load(noisy)\n",
        "        clean, fs2 = torchaudio.load(clean)\n",
        "\n",
        "        # Resample\n",
        "        noisy = resample(noisy, fs1, self.sample_hz)\n",
        "        clean = resample(clean, fs2, self.sample_hz)\n",
        "\n",
        "        if self.transform:\n",
        "            noisy = self.transform(noisy)\n",
        "            clean = self.transform(clean)\n",
        "\n",
        "\n",
        "        return noisy, clean"
      ],
      "metadata": {
        "id": "oEZmcNVm8XXi"
      },
      "execution_count": null,
      "outputs": []
    },
    {
      "cell_type": "code",
      "source": [
        "# For use in static quantization observer\n",
        "sample_dataset = ValentiniDataset('noisy_testset_wav', 'clean_testset_wav', max_size=10)\n",
        "sample_dataloader = torch.utils.data.DataLoader(sample_dataset, batch_size=1, shuffle=False)"
      ],
      "metadata": {
        "id": "I9zXqKnX8oXU"
      },
      "execution_count": null,
      "outputs": []
    },
    {
      "cell_type": "code",
      "source": [
        "dynamic_only = quantized_demucs.QuantizedDemucs.from_facebook_pretrained('dns48', dict(encoder=False, lstm=False), dynamic=torch.qint8)\n",
        "static_only = quantized_demucs.QuantizedDemucs.from_facebook_pretrained('dns48', dict(encoder=True, lstm=True), dynamic=None, sample_audio=tqdm(sample_dataloader))"
      ],
      "metadata": {
        "colab": {
          "base_uri": "https://localhost:8080/"
        },
        "id": "8C7uAyqq9ltK",
        "outputId": "1a2cdacc-4901-42cf-c531-c74cfa040904"
      },
      "execution_count": null,
      "outputs": [
        {
          "output_type": "stream",
          "name": "stderr",
          "text": [
            "100%|██████████| 10/10 [00:49<00:00,  4.99s/it]\n"
          ]
        }
      ]
    },
    {
      "cell_type": "code",
      "source": [
        "static_encoder_only = quantized_demucs.QuantizedDemucs.from_facebook_pretrained('dns48', dict(encoder=True, lstm=False), dynamic=None, sample_audio=tqdm(sample_dataloader))\n",
        "static_lstm_only = quantized_demucs.QuantizedDemucs.from_facebook_pretrained('dns48', dict(encoder=False, lstm=True), dynamic=None, sample_audio=tqdm(sample_dataloader))\n",
        "static_and_dynamic = quantized_demucs.QuantizedDemucs.from_facebook_pretrained('dns48', dict(encoder=True, lstm=False), dynamic=torch.qint8, sample_audio=tqdm(sample_dataloader))"
      ],
      "metadata": {
        "colab": {
          "base_uri": "https://localhost:8080/"
        },
        "id": "tqrllY-2Yk-v",
        "outputId": "2b450f97-307c-44d3-a301-1468ece7635f"
      },
      "execution_count": null,
      "outputs": [
        {
          "output_type": "stream",
          "name": "stderr",
          "text": [
            "100%|██████████| 10/10 [00:02<00:00,  4.49it/s]\n",
            "/usr/local/lib/python3.10/dist-packages/torch/ao/quantization/utils.py:339: UserWarning: must run observer before calling calculate_qparams. Returning default values.\n",
            "  warnings.warn(\n",
            "100%|██████████| 10/10 [00:36<00:00,  3.64s/it]\n",
            "100%|██████████| 10/10 [00:02<00:00,  4.97it/s]\n"
          ]
        }
      ]
    },
    {
      "cell_type": "code",
      "source": [
        "pretrained = demucs.load_pretrained_demucs('dns48')"
      ],
      "metadata": {
        "id": "VP3ASO8bb3m1"
      },
      "execution_count": null,
      "outputs": []
    },
    {
      "cell_type": "code",
      "source": [
        "def valentini_pesq(model, max_num_its=None):\n",
        "  dataset = ValentiniDataset('noisy_testset_wav', 'clean_testset_wav', max_size=max_num_its)\n",
        "  dataloader = torch.utils.data.DataLoader(dataset, batch_size=1, shuffle=False)\n",
        "  pesq = PerceptualEvaluationSpeechQuality(16000, 'wb')\n",
        "  stoi = ShortTimeObjectiveIntelligibility(16000)\n",
        "  snr = ScaleInvariantSignalNoiseRatio()\n",
        "\n",
        "  values_stoi = []\n",
        "  values_pesq = []\n",
        "  values_snr = []\n",
        "  model.eval()\n",
        "  for x, y in tqdm(dataloader):\n",
        "    pred = model(x)\n",
        "    values_pesq.append(pesq(pred, y).item())\n",
        "    values_stoi.append(stoi(pred, y).item())\n",
        "    values_snr.append(snr(pred, y).item())\n",
        "\n",
        "\n",
        "\n",
        "  values_pesq, values_stoi, values_snr = np.array(values_pesq), np.array(values_stoi), np.array(values_snr)\n",
        "  mean_pesq, std_pesq = values_pesq.mean(), values_pesq.std()\n",
        "  mean_stoi, std_stoi = values_stoi.mean(), values_stoi.std()\n",
        "  mean_snr, std_snr = values_snr.mean(), values_snr.std()\n",
        "\n",
        "  return mean_pesq, std_pesq, mean_stoi, std_stoi, mean_snr, std_snr"
      ],
      "metadata": {
        "id": "g4CrTp1P-qem"
      },
      "execution_count": null,
      "outputs": []
    },
    {
      "cell_type": "code",
      "source": [
        "sample_audio = next(iter(sample_dataloader))[0][0]"
      ],
      "metadata": {
        "id": "D0VmrzKmfACF"
      },
      "execution_count": null,
      "outputs": []
    },
    {
      "cell_type": "code",
      "source": [
        "torch.set_num_threads(8)"
      ],
      "metadata": {
        "id": "LmU9aFd-oD8y"
      },
      "execution_count": null,
      "outputs": []
    },
    {
      "cell_type": "code",
      "source": [
        "valentini_pesq(static_and_dynamic, 10)"
      ],
      "metadata": {
        "colab": {
          "base_uri": "https://localhost:8080/"
        },
        "id": "-ptzHEJBL2c-",
        "outputId": "213dda22-a3e0-4a87-94b6-a0048ce4f0e9"
      },
      "execution_count": null,
      "outputs": [
        {
          "output_type": "stream",
          "name": "stderr",
          "text": [
            "100%|██████████| 10/10 [04:21<00:00, 26.18s/it]\n"
          ]
        },
        {
          "output_type": "execute_result",
          "data": {
            "text/plain": [
              "(2.261147439479828,\n",
              " 0.5065400500662501,\n",
              " 0.9039052844047546,\n",
              " 0.05340802631998296,\n",
              " 17.634090614318847,\n",
              " 3.26801372632236)"
            ]
          },
          "metadata": {},
          "execution_count": 34
        }
      ]
    },
    {
      "cell_type": "code",
      "source": [
        "def benchmark_model(model, name, max_num_its=None):\n",
        "  vals = valentini_pesq(model, max_num_its)\n",
        "  size = get_size_of_model(model)\n",
        "  print(\"model: \",name,' \\t','Size (KB):', size/1e3)\n",
        "\n",
        "  return [name, size] + [*vals]"
      ],
      "metadata": {
        "id": "GUog4uRmlh6a"
      },
      "execution_count": null,
      "outputs": []
    },
    {
      "cell_type": "code",
      "source": [
        "results = []\n",
        "models = zip(\n",
        "    [nn.Identity(), pretrained, dynamic_only, static_only, static_encoder_only, static_lstm_only, static_and_dynamic],\n",
        "    ['noisy', 'pretrained', 'dynamic_only', 'static_only', 'static_encoder_only', 'static_lstm_only', 'static_and_dynamic']\n",
        ")\n",
        "for model, name in models:\n",
        "  its = 400\n",
        "  results.append(benchmark_model(model, name, max_num_its=its))"
      ],
      "metadata": {
        "id": "nq4ll8m3lynI",
        "colab": {
          "base_uri": "https://localhost:8080/"
        },
        "outputId": "e50c1c45-17a3-4d4f-cd72-4786669b13f8"
      },
      "execution_count": null,
      "outputs": [
        {
          "output_type": "stream",
          "name": "stderr",
          "text": [
            "100%|██████████| 200/200 [00:45<00:00,  4.39it/s]\n"
          ]
        },
        {
          "output_type": "stream",
          "name": "stdout",
          "text": [
            "model:  noisy  \t Size (KB): 0.916\n"
          ]
        },
        {
          "output_type": "stream",
          "name": "stderr",
          "text": [
            "100%|██████████| 200/200 [01:45<00:00,  1.90it/s]\n"
          ]
        },
        {
          "output_type": "stream",
          "name": "stdout",
          "text": [
            "model:  pretrained  \t Size (KB): 75484.778\n"
          ]
        },
        {
          "output_type": "stream",
          "name": "stderr",
          "text": [
            "100%|██████████| 200/200 [01:41<00:00,  1.97it/s]\n"
          ]
        },
        {
          "output_type": "stream",
          "name": "stdout",
          "text": [
            "model:  dynamic_only  \t Size (KB): 47174.186\n"
          ]
        },
        {
          "output_type": "stream",
          "name": "stderr",
          "text": [
            "100%|██████████| 200/200 [07:12<00:00,  2.16s/it]\n"
          ]
        },
        {
          "output_type": "stream",
          "name": "stdout",
          "text": [
            "model:  static_only  \t Size (KB): 33079.626\n"
          ]
        },
        {
          "output_type": "stream",
          "name": "stderr",
          "text": [
            "100%|██████████| 200/200 [04:50<00:00,  1.45s/it]\n"
          ]
        },
        {
          "output_type": "stream",
          "name": "stdout",
          "text": [
            "model:  static_encoder_only  \t Size (KB): 61379.178\n"
          ]
        },
        {
          "output_type": "stream",
          "name": "stderr",
          "text": [
            "100%|██████████| 200/200 [04:05<00:00,  1.23s/it]\n"
          ]
        },
        {
          "output_type": "stream",
          "name": "stdout",
          "text": [
            "model:  static_lstm_only  \t Size (KB): 47185.974\n"
          ]
        },
        {
          "output_type": "stream",
          "name": "stderr",
          "text": [
            "100%|██████████| 40/40 [18:47<00:00, 28.18s/it]"
          ]
        },
        {
          "output_type": "stream",
          "name": "stdout",
          "text": [
            "model:  static_and_dynamic  \t Size (KB): 33118.354\n"
          ]
        },
        {
          "output_type": "stream",
          "name": "stderr",
          "text": [
            "\n"
          ]
        }
      ]
    },
    {
      "cell_type": "code",
      "source": [
        "df = pd.DataFrame(results, columns=['model', 'size', 'pesq', 'pesq_std', 'stoi', 'stoi_std', 'snr', 'snr_std'])"
      ],
      "metadata": {
        "id": "AiQtxlCR70Tg"
      },
      "execution_count": null,
      "outputs": []
    },
    {
      "cell_type": "code",
      "source": [
        "df = pd.read_csv('results.csv')"
      ],
      "metadata": {
        "id": "esHeYr1jIJir"
      },
      "execution_count": 3,
      "outputs": []
    },
    {
      "cell_type": "code",
      "source": [
        "import matplotlib.pyplot as plt"
      ],
      "metadata": {
        "id": "E7z7jYjcPjF2"
      },
      "execution_count": 4,
      "outputs": []
    },
    {
      "cell_type": "code",
      "source": [
        "df"
      ],
      "metadata": {
        "colab": {
          "base_uri": "https://localhost:8080/",
          "height": 269
        },
        "id": "_P0154GsTsrt",
        "outputId": "cfc28b15-7a17-4c6d-e940-14e6422de4dd"
      },
      "execution_count": 31,
      "outputs": [
        {
          "output_type": "execute_result",
          "data": {
            "text/plain": [
              "   Unnamed: 0  model      size      pesq  pesq_std      stoi  stoi_std  \\\n",
              "0           0  noisy       916  1.903207  0.758918  0.909354  0.080850   \n",
              "1           1   base  75484778  2.420732  0.654211  0.918006  0.074847   \n",
              "2           2     DL  47174186  2.417153  0.655721  0.917321  0.075159   \n",
              "3           3  SE+SL  33079626  2.105649  0.465992  0.896813  0.074972   \n",
              "4           4     SE  61379178  2.124483  0.473308  0.898130  0.074113   \n",
              "5           5     SL  47185974  2.419644  0.652975  0.916936  0.075088   \n",
              "6           6  SE+DL  33118354  2.166114  0.501195  0.893765  0.073605   \n",
              "\n",
              "         snr   snr_std  \n",
              "0   7.623426  5.609259  \n",
              "1  17.927254  3.099548  \n",
              "2  17.964741  3.105358  \n",
              "3  17.238798  2.940765  \n",
              "4  17.261187  2.936750  \n",
              "5  17.933577  3.108353  \n",
              "6  17.249359  2.767468  "
            ],
            "text/html": [
              "\n",
              "  <div id=\"df-a24f16c8-575f-438a-9ec3-87d062b4e49b\" class=\"colab-df-container\">\n",
              "    <div>\n",
              "<style scoped>\n",
              "    .dataframe tbody tr th:only-of-type {\n",
              "        vertical-align: middle;\n",
              "    }\n",
              "\n",
              "    .dataframe tbody tr th {\n",
              "        vertical-align: top;\n",
              "    }\n",
              "\n",
              "    .dataframe thead th {\n",
              "        text-align: right;\n",
              "    }\n",
              "</style>\n",
              "<table border=\"1\" class=\"dataframe\">\n",
              "  <thead>\n",
              "    <tr style=\"text-align: right;\">\n",
              "      <th></th>\n",
              "      <th>Unnamed: 0</th>\n",
              "      <th>model</th>\n",
              "      <th>size</th>\n",
              "      <th>pesq</th>\n",
              "      <th>pesq_std</th>\n",
              "      <th>stoi</th>\n",
              "      <th>stoi_std</th>\n",
              "      <th>snr</th>\n",
              "      <th>snr_std</th>\n",
              "    </tr>\n",
              "  </thead>\n",
              "  <tbody>\n",
              "    <tr>\n",
              "      <th>0</th>\n",
              "      <td>0</td>\n",
              "      <td>noisy</td>\n",
              "      <td>916</td>\n",
              "      <td>1.903207</td>\n",
              "      <td>0.758918</td>\n",
              "      <td>0.909354</td>\n",
              "      <td>0.080850</td>\n",
              "      <td>7.623426</td>\n",
              "      <td>5.609259</td>\n",
              "    </tr>\n",
              "    <tr>\n",
              "      <th>1</th>\n",
              "      <td>1</td>\n",
              "      <td>base</td>\n",
              "      <td>75484778</td>\n",
              "      <td>2.420732</td>\n",
              "      <td>0.654211</td>\n",
              "      <td>0.918006</td>\n",
              "      <td>0.074847</td>\n",
              "      <td>17.927254</td>\n",
              "      <td>3.099548</td>\n",
              "    </tr>\n",
              "    <tr>\n",
              "      <th>2</th>\n",
              "      <td>2</td>\n",
              "      <td>DL</td>\n",
              "      <td>47174186</td>\n",
              "      <td>2.417153</td>\n",
              "      <td>0.655721</td>\n",
              "      <td>0.917321</td>\n",
              "      <td>0.075159</td>\n",
              "      <td>17.964741</td>\n",
              "      <td>3.105358</td>\n",
              "    </tr>\n",
              "    <tr>\n",
              "      <th>3</th>\n",
              "      <td>3</td>\n",
              "      <td>SE+SL</td>\n",
              "      <td>33079626</td>\n",
              "      <td>2.105649</td>\n",
              "      <td>0.465992</td>\n",
              "      <td>0.896813</td>\n",
              "      <td>0.074972</td>\n",
              "      <td>17.238798</td>\n",
              "      <td>2.940765</td>\n",
              "    </tr>\n",
              "    <tr>\n",
              "      <th>4</th>\n",
              "      <td>4</td>\n",
              "      <td>SE</td>\n",
              "      <td>61379178</td>\n",
              "      <td>2.124483</td>\n",
              "      <td>0.473308</td>\n",
              "      <td>0.898130</td>\n",
              "      <td>0.074113</td>\n",
              "      <td>17.261187</td>\n",
              "      <td>2.936750</td>\n",
              "    </tr>\n",
              "    <tr>\n",
              "      <th>5</th>\n",
              "      <td>5</td>\n",
              "      <td>SL</td>\n",
              "      <td>47185974</td>\n",
              "      <td>2.419644</td>\n",
              "      <td>0.652975</td>\n",
              "      <td>0.916936</td>\n",
              "      <td>0.075088</td>\n",
              "      <td>17.933577</td>\n",
              "      <td>3.108353</td>\n",
              "    </tr>\n",
              "    <tr>\n",
              "      <th>6</th>\n",
              "      <td>6</td>\n",
              "      <td>SE+DL</td>\n",
              "      <td>33118354</td>\n",
              "      <td>2.166114</td>\n",
              "      <td>0.501195</td>\n",
              "      <td>0.893765</td>\n",
              "      <td>0.073605</td>\n",
              "      <td>17.249359</td>\n",
              "      <td>2.767468</td>\n",
              "    </tr>\n",
              "  </tbody>\n",
              "</table>\n",
              "</div>\n",
              "    <div class=\"colab-df-buttons\">\n",
              "\n",
              "  <div class=\"colab-df-container\">\n",
              "    <button class=\"colab-df-convert\" onclick=\"convertToInteractive('df-a24f16c8-575f-438a-9ec3-87d062b4e49b')\"\n",
              "            title=\"Convert this dataframe to an interactive table.\"\n",
              "            style=\"display:none;\">\n",
              "\n",
              "  <svg xmlns=\"http://www.w3.org/2000/svg\" height=\"24px\" viewBox=\"0 -960 960 960\">\n",
              "    <path d=\"M120-120v-720h720v720H120Zm60-500h600v-160H180v160Zm220 220h160v-160H400v160Zm0 220h160v-160H400v160ZM180-400h160v-160H180v160Zm440 0h160v-160H620v160ZM180-180h160v-160H180v160Zm440 0h160v-160H620v160Z\"/>\n",
              "  </svg>\n",
              "    </button>\n",
              "\n",
              "  <style>\n",
              "    .colab-df-container {\n",
              "      display:flex;\n",
              "      gap: 12px;\n",
              "    }\n",
              "\n",
              "    .colab-df-convert {\n",
              "      background-color: #E8F0FE;\n",
              "      border: none;\n",
              "      border-radius: 50%;\n",
              "      cursor: pointer;\n",
              "      display: none;\n",
              "      fill: #1967D2;\n",
              "      height: 32px;\n",
              "      padding: 0 0 0 0;\n",
              "      width: 32px;\n",
              "    }\n",
              "\n",
              "    .colab-df-convert:hover {\n",
              "      background-color: #E2EBFA;\n",
              "      box-shadow: 0px 1px 2px rgba(60, 64, 67, 0.3), 0px 1px 3px 1px rgba(60, 64, 67, 0.15);\n",
              "      fill: #174EA6;\n",
              "    }\n",
              "\n",
              "    .colab-df-buttons div {\n",
              "      margin-bottom: 4px;\n",
              "    }\n",
              "\n",
              "    [theme=dark] .colab-df-convert {\n",
              "      background-color: #3B4455;\n",
              "      fill: #D2E3FC;\n",
              "    }\n",
              "\n",
              "    [theme=dark] .colab-df-convert:hover {\n",
              "      background-color: #434B5C;\n",
              "      box-shadow: 0px 1px 3px 1px rgba(0, 0, 0, 0.15);\n",
              "      filter: drop-shadow(0px 1px 2px rgba(0, 0, 0, 0.3));\n",
              "      fill: #FFFFFF;\n",
              "    }\n",
              "  </style>\n",
              "\n",
              "    <script>\n",
              "      const buttonEl =\n",
              "        document.querySelector('#df-a24f16c8-575f-438a-9ec3-87d062b4e49b button.colab-df-convert');\n",
              "      buttonEl.style.display =\n",
              "        google.colab.kernel.accessAllowed ? 'block' : 'none';\n",
              "\n",
              "      async function convertToInteractive(key) {\n",
              "        const element = document.querySelector('#df-a24f16c8-575f-438a-9ec3-87d062b4e49b');\n",
              "        const dataTable =\n",
              "          await google.colab.kernel.invokeFunction('convertToInteractive',\n",
              "                                                    [key], {});\n",
              "        if (!dataTable) return;\n",
              "\n",
              "        const docLinkHtml = 'Like what you see? Visit the ' +\n",
              "          '<a target=\"_blank\" href=https://colab.research.google.com/notebooks/data_table.ipynb>data table notebook</a>'\n",
              "          + ' to learn more about interactive tables.';\n",
              "        element.innerHTML = '';\n",
              "        dataTable['output_type'] = 'display_data';\n",
              "        await google.colab.output.renderOutput(dataTable, element);\n",
              "        const docLink = document.createElement('div');\n",
              "        docLink.innerHTML = docLinkHtml;\n",
              "        element.appendChild(docLink);\n",
              "      }\n",
              "    </script>\n",
              "  </div>\n",
              "\n",
              "\n",
              "<div id=\"df-1edd0c7c-994d-4ee4-814e-e635821f2c2d\">\n",
              "  <button class=\"colab-df-quickchart\" onclick=\"quickchart('df-1edd0c7c-994d-4ee4-814e-e635821f2c2d')\"\n",
              "            title=\"Suggest charts\"\n",
              "            style=\"display:none;\">\n",
              "\n",
              "<svg xmlns=\"http://www.w3.org/2000/svg\" height=\"24px\"viewBox=\"0 0 24 24\"\n",
              "     width=\"24px\">\n",
              "    <g>\n",
              "        <path d=\"M19 3H5c-1.1 0-2 .9-2 2v14c0 1.1.9 2 2 2h14c1.1 0 2-.9 2-2V5c0-1.1-.9-2-2-2zM9 17H7v-7h2v7zm4 0h-2V7h2v10zm4 0h-2v-4h2v4z\"/>\n",
              "    </g>\n",
              "</svg>\n",
              "  </button>\n",
              "\n",
              "<style>\n",
              "  .colab-df-quickchart {\n",
              "      --bg-color: #E8F0FE;\n",
              "      --fill-color: #1967D2;\n",
              "      --hover-bg-color: #E2EBFA;\n",
              "      --hover-fill-color: #174EA6;\n",
              "      --disabled-fill-color: #AAA;\n",
              "      --disabled-bg-color: #DDD;\n",
              "  }\n",
              "\n",
              "  [theme=dark] .colab-df-quickchart {\n",
              "      --bg-color: #3B4455;\n",
              "      --fill-color: #D2E3FC;\n",
              "      --hover-bg-color: #434B5C;\n",
              "      --hover-fill-color: #FFFFFF;\n",
              "      --disabled-bg-color: #3B4455;\n",
              "      --disabled-fill-color: #666;\n",
              "  }\n",
              "\n",
              "  .colab-df-quickchart {\n",
              "    background-color: var(--bg-color);\n",
              "    border: none;\n",
              "    border-radius: 50%;\n",
              "    cursor: pointer;\n",
              "    display: none;\n",
              "    fill: var(--fill-color);\n",
              "    height: 32px;\n",
              "    padding: 0;\n",
              "    width: 32px;\n",
              "  }\n",
              "\n",
              "  .colab-df-quickchart:hover {\n",
              "    background-color: var(--hover-bg-color);\n",
              "    box-shadow: 0 1px 2px rgba(60, 64, 67, 0.3), 0 1px 3px 1px rgba(60, 64, 67, 0.15);\n",
              "    fill: var(--button-hover-fill-color);\n",
              "  }\n",
              "\n",
              "  .colab-df-quickchart-complete:disabled,\n",
              "  .colab-df-quickchart-complete:disabled:hover {\n",
              "    background-color: var(--disabled-bg-color);\n",
              "    fill: var(--disabled-fill-color);\n",
              "    box-shadow: none;\n",
              "  }\n",
              "\n",
              "  .colab-df-spinner {\n",
              "    border: 2px solid var(--fill-color);\n",
              "    border-color: transparent;\n",
              "    border-bottom-color: var(--fill-color);\n",
              "    animation:\n",
              "      spin 1s steps(1) infinite;\n",
              "  }\n",
              "\n",
              "  @keyframes spin {\n",
              "    0% {\n",
              "      border-color: transparent;\n",
              "      border-bottom-color: var(--fill-color);\n",
              "      border-left-color: var(--fill-color);\n",
              "    }\n",
              "    20% {\n",
              "      border-color: transparent;\n",
              "      border-left-color: var(--fill-color);\n",
              "      border-top-color: var(--fill-color);\n",
              "    }\n",
              "    30% {\n",
              "      border-color: transparent;\n",
              "      border-left-color: var(--fill-color);\n",
              "      border-top-color: var(--fill-color);\n",
              "      border-right-color: var(--fill-color);\n",
              "    }\n",
              "    40% {\n",
              "      border-color: transparent;\n",
              "      border-right-color: var(--fill-color);\n",
              "      border-top-color: var(--fill-color);\n",
              "    }\n",
              "    60% {\n",
              "      border-color: transparent;\n",
              "      border-right-color: var(--fill-color);\n",
              "    }\n",
              "    80% {\n",
              "      border-color: transparent;\n",
              "      border-right-color: var(--fill-color);\n",
              "      border-bottom-color: var(--fill-color);\n",
              "    }\n",
              "    90% {\n",
              "      border-color: transparent;\n",
              "      border-bottom-color: var(--fill-color);\n",
              "    }\n",
              "  }\n",
              "</style>\n",
              "\n",
              "  <script>\n",
              "    async function quickchart(key) {\n",
              "      const quickchartButtonEl =\n",
              "        document.querySelector('#' + key + ' button');\n",
              "      quickchartButtonEl.disabled = true;  // To prevent multiple clicks.\n",
              "      quickchartButtonEl.classList.add('colab-df-spinner');\n",
              "      try {\n",
              "        const charts = await google.colab.kernel.invokeFunction(\n",
              "            'suggestCharts', [key], {});\n",
              "      } catch (error) {\n",
              "        console.error('Error during call to suggestCharts:', error);\n",
              "      }\n",
              "      quickchartButtonEl.classList.remove('colab-df-spinner');\n",
              "      quickchartButtonEl.classList.add('colab-df-quickchart-complete');\n",
              "    }\n",
              "    (() => {\n",
              "      let quickchartButtonEl =\n",
              "        document.querySelector('#df-1edd0c7c-994d-4ee4-814e-e635821f2c2d button');\n",
              "      quickchartButtonEl.style.display =\n",
              "        google.colab.kernel.accessAllowed ? 'block' : 'none';\n",
              "    })();\n",
              "  </script>\n",
              "</div>\n",
              "\n",
              "  <div id=\"id_de803f04-df33-4a89-b1cc-1fff64f1ad73\">\n",
              "    <style>\n",
              "      .colab-df-generate {\n",
              "        background-color: #E8F0FE;\n",
              "        border: none;\n",
              "        border-radius: 50%;\n",
              "        cursor: pointer;\n",
              "        display: none;\n",
              "        fill: #1967D2;\n",
              "        height: 32px;\n",
              "        padding: 0 0 0 0;\n",
              "        width: 32px;\n",
              "      }\n",
              "\n",
              "      .colab-df-generate:hover {\n",
              "        background-color: #E2EBFA;\n",
              "        box-shadow: 0px 1px 2px rgba(60, 64, 67, 0.3), 0px 1px 3px 1px rgba(60, 64, 67, 0.15);\n",
              "        fill: #174EA6;\n",
              "      }\n",
              "\n",
              "      [theme=dark] .colab-df-generate {\n",
              "        background-color: #3B4455;\n",
              "        fill: #D2E3FC;\n",
              "      }\n",
              "\n",
              "      [theme=dark] .colab-df-generate:hover {\n",
              "        background-color: #434B5C;\n",
              "        box-shadow: 0px 1px 3px 1px rgba(0, 0, 0, 0.15);\n",
              "        filter: drop-shadow(0px 1px 2px rgba(0, 0, 0, 0.3));\n",
              "        fill: #FFFFFF;\n",
              "      }\n",
              "    </style>\n",
              "    <button class=\"colab-df-generate\" onclick=\"generateWithVariable('df')\"\n",
              "            title=\"Generate code using this dataframe.\"\n",
              "            style=\"display:none;\">\n",
              "\n",
              "  <svg xmlns=\"http://www.w3.org/2000/svg\" height=\"24px\"viewBox=\"0 0 24 24\"\n",
              "       width=\"24px\">\n",
              "    <path d=\"M7,19H8.4L18.45,9,17,7.55,7,17.6ZM5,21V16.75L18.45,3.32a2,2,0,0,1,2.83,0l1.4,1.43a1.91,1.91,0,0,1,.58,1.4,1.91,1.91,0,0,1-.58,1.4L9.25,21ZM18.45,9,17,7.55Zm-12,3A5.31,5.31,0,0,0,4.9,8.1,5.31,5.31,0,0,0,1,6.5,5.31,5.31,0,0,0,4.9,4.9,5.31,5.31,0,0,0,6.5,1,5.31,5.31,0,0,0,8.1,4.9,5.31,5.31,0,0,0,12,6.5,5.46,5.46,0,0,0,6.5,12Z\"/>\n",
              "  </svg>\n",
              "    </button>\n",
              "    <script>\n",
              "      (() => {\n",
              "      const buttonEl =\n",
              "        document.querySelector('#id_de803f04-df33-4a89-b1cc-1fff64f1ad73 button.colab-df-generate');\n",
              "      buttonEl.style.display =\n",
              "        google.colab.kernel.accessAllowed ? 'block' : 'none';\n",
              "\n",
              "      buttonEl.onclick = () => {\n",
              "        google.colab.notebook.generateWithVariable('df');\n",
              "      }\n",
              "      })();\n",
              "    </script>\n",
              "  </div>\n",
              "\n",
              "    </div>\n",
              "  </div>\n"
            ],
            "application/vnd.google.colaboratory.intrinsic+json": {
              "type": "dataframe",
              "variable_name": "df",
              "summary": "{\n  \"name\": \"df\",\n  \"rows\": 7,\n  \"fields\": [\n    {\n      \"column\": \"Unnamed: 0\",\n      \"properties\": {\n        \"dtype\": \"number\",\n        \"std\": 2,\n        \"min\": 0,\n        \"max\": 6,\n        \"num_unique_values\": 7,\n        \"samples\": [\n          0,\n          1,\n          5\n        ],\n        \"semantic_type\": \"\",\n        \"description\": \"\"\n      }\n    },\n    {\n      \"column\": \"model\",\n      \"properties\": {\n        \"dtype\": \"string\",\n        \"num_unique_values\": 7,\n        \"samples\": [\n          \"noisy\",\n          \"base\",\n          \"SL\"\n        ],\n        \"semantic_type\": \"\",\n        \"description\": \"\"\n      }\n    },\n    {\n      \"column\": \"size\",\n      \"properties\": {\n        \"dtype\": \"number\",\n        \"std\": 24052565,\n        \"min\": 916,\n        \"max\": 75484778,\n        \"num_unique_values\": 7,\n        \"samples\": [\n          916,\n          75484778,\n          47185974\n        ],\n        \"semantic_type\": \"\",\n        \"description\": \"\"\n      }\n    },\n    {\n      \"column\": \"pesq\",\n      \"properties\": {\n        \"dtype\": \"number\",\n        \"std\": 0.20184163769308205,\n        \"min\": 1.9032070988416672,\n        \"max\": 2.420731503367424,\n        \"num_unique_values\": 7,\n        \"samples\": [\n          1.9032070988416672,\n          2.420731503367424,\n          2.419644349813461\n        ],\n        \"semantic_type\": \"\",\n        \"description\": \"\"\n      }\n    },\n    {\n      \"column\": \"pesq_std\",\n      \"properties\": {\n        \"dtype\": \"number\",\n        \"std\": 0.11377867784466118,\n        \"min\": 0.4659917868396223,\n        \"max\": 0.7589178873339399,\n        \"num_unique_values\": 7,\n        \"samples\": [\n          0.7589178873339399,\n          0.6542105421863849,\n          0.6529754805015467\n        ],\n        \"semantic_type\": \"\",\n        \"description\": \"\"\n      }\n    },\n    {\n      \"column\": \"stoi\",\n      \"properties\": {\n        \"dtype\": \"number\",\n        \"std\": 0.01071831093262572,\n        \"min\": 0.8937650978565216,\n        \"max\": 0.918006418645382,\n        \"num_unique_values\": 7,\n        \"samples\": [\n          0.9093541690707206,\n          0.918006418645382,\n          0.9169364157319068\n        ],\n        \"semantic_type\": \"\",\n        \"description\": \"\"\n      }\n    },\n    {\n      \"column\": \"stoi_std\",\n      \"properties\": {\n        \"dtype\": \"number\",\n        \"std\": 0.0024194758958093567,\n        \"min\": 0.073604660638682,\n        \"max\": 0.0808495436665984,\n        \"num_unique_values\": 7,\n        \"samples\": [\n          0.0808495436665984,\n          0.0748469060661525,\n          0.0750880148097217\n        ],\n        \"semantic_type\": \"\",\n        \"description\": \"\"\n      }\n    },\n    {\n      \"column\": \"snr\",\n      \"properties\": {\n        \"dtype\": \"number\",\n        \"std\": 3.785084668617038,\n        \"min\": 7.623425719677471,\n        \"max\": 17.964741272926332,\n        \"num_unique_values\": 7,\n        \"samples\": [\n          7.623425719677471,\n          17.927253737449647,\n          17.933577055931092\n        ],\n        \"semantic_type\": \"\",\n        \"description\": \"\"\n      }\n    },\n    {\n      \"column\": \"snr_std\",\n      \"properties\": {\n        \"dtype\": \"number\",\n        \"std\": 0.99673144745403,\n        \"min\": 2.7674675146346206,\n        \"max\": 5.609259367860062,\n        \"num_unique_values\": 7,\n        \"samples\": [\n          5.609259367860062,\n          3.0995484811121856,\n          3.108353448403126\n        ],\n        \"semantic_type\": \"\",\n        \"description\": \"\"\n      }\n    }\n  ]\n}"
            }
          },
          "metadata": {},
          "execution_count": 31
        }
      ]
    },
    {
      "cell_type": "code",
      "source": [
        "markers = ['x', 'o', '*', '+', '^', 'h']\n",
        "names = ['base', 'DL', 'SE+SL', 'SE', 'SL', 'SE+DL']\n",
        "df.model = ['noisy'] + names\n",
        "marker_dict = dict(zip(names, markers))\n",
        "plt.axhline(y=1.9032, linestyle=':', color='k', label='noisy')\n",
        "for i, row in df.iterrows():\n",
        "  if row['model'] != 'noisy':\n",
        "    x,y = row['size'], row['pesq']\n",
        "    plt.scatter(x, y, s=150, marker=marker_dict[row['model']], alpha=0.9, label=row['model'], linewidth=3)\n",
        "plt.legend()\n",
        "plt.xlabel('size')\n",
        "plt.ylabel('pesq')\n",
        "plt.title('pesq vs. size, dns48')\n",
        "plt.show()"
      ],
      "metadata": {
        "colab": {
          "base_uri": "https://localhost:8080/",
          "height": 472
        },
        "id": "GDteh64dPkai",
        "outputId": "7a56639b-bc32-4904-8b05-9b578a825f94"
      },
      "execution_count": 33,
      "outputs": [
        {
          "output_type": "display_data",
          "data": {
            "text/plain": [
              "<Figure size 640x480 with 1 Axes>"
            ],
            "image/png": "[encoded data removed]"
          },
          "metadata": {}
        }
      ]
    },
    {
      "cell_type": "code",
      "source": [
        "metrics = ['pesq', 'stoi', 'snr']\n",
        "x = np.arange(len(metrics))\n",
        "for i in range(len(df)):\n",
        "  plt.bar(x + 0.1 * i, df.iloc[i][['pesq', 'stoi', 'snr']] / df[df.model == 'noisy'].iloc[0][['pesq', 'stoi', 'snr']], width=0.1, edgecolor='black', label=df.iloc[i]['model'])\n",
        "plt.legend()\n",
        "plt.xticks(x+0.3, metrics)\n",
        "plt.title('pesq, stoi, snr (relative to noisy)')\n",
        "plt.show()"
      ],
      "metadata": {
        "colab": {
          "base_uri": "https://localhost:8080/",
          "height": 452
        },
        "id": "VcjF7fVqQ7Le",
        "outputId": "f58c0f69-797d-4754-a3e3-98bfefbf322d"
      },
      "execution_count": 9,
      "outputs": [
        {
          "output_type": "display_data",
          "data": {
            "text/plain": [
              "<Figure size 640x480 with 1 Axes>"
            ],
            "image/png": "[encoded data removed]"
          },
          "metadata": {}
        }
      ]
    },
    {
      "cell_type": "code",
      "source": [],
      "metadata": {
        "id": "f9OhvUA-Q54H"
      },
      "execution_count": null,
      "outputs": []
    }
  ]
}